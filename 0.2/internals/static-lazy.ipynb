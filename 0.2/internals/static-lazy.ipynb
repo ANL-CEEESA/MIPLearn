{
 "cells": [
  {
   "cell_type": "markdown",
   "id": "ae350662",
   "metadata": {},
   "source": [
    "# Static lazy constraints\n",
    "\n",
    "TODO"
   ]
  }
 ],
 "metadata": {
  "kernelspec": {
   "display_name": "Julia 1.6.0",
   "language": "julia",
   "name": "julia-1.6"
  },
  "language_info": {
   "file_extension": ".jl",
   "mimetype": "application/julia",
   "name": "julia",
   "version": "1.6.0"
  }
 },
 "nbformat": 4,
 "nbformat_minor": 5
}
