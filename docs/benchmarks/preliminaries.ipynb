{
 "cells": [
  {
   "cell_type": "markdown",
   "id": "cf77634b",
   "metadata": {},
   "source": [
    "# Preliminaries\n",
    "\n",
    "## Benchmark challenges\n",
    "\n",
    "When evaluating the performance of a conventional MIP solver, *benchmark sets*, such as MIPLIB and TSPLIB, are typically used. The performance of newly proposed solvers or solution techniques are typically measured as the average (or total) running time the solver takes to solve the entire benchmark set. For Learning-Enhanced MIP solvers, it is also necessary to specify what instances should the solver be trained on (the *training instances*) before solving the actual set of instances we are interested in (the *test instances*). If the training instances are very similar to the test instances, we would expect a Learning-Enhanced Solver to present stronger perfomance benefits.\n",
    "\n",
    "In MIPLearn, each optimization problem comes with a set of **benchmark challenges**, which specify how should the training and test instances be generated. The first challenges are typically easier, in the sense that training and test instances are very similar. Later challenges gradually make the sets more distinct, and therefore harder to learn from.\n",
    "\n",
    "## Baseline results\n",
    "\n",
    "To illustrate the performance of `LearningSolver`, and to set a baseline for newly proposed techniques, we present in this page, for each benchmark challenge, a small set of computational results measuring the solution speed of the solver and the solution quality with default parameters. For more detailed computational studies, see [references](index.md#references). We compare three solvers:\n",
    "\n",
    "* **baseline:** Gurobi 9.1 with default settings (a conventional state-of-the-art MIP solver)\n",
    "* **ml-exact:** `LearningSolver` with default settings, using Gurobi as internal MIP solver\n",
    "* **ml-heuristic:** Same as above, but with `mode=\"heuristic\"`\n",
    "\n",
    "All experiments presented here were performed on a Linux workstation (Ubuntu Linux 20.04 LTS) with AMD Ryzen 3950X (16 cores, 32 threads) and 64 GB RAM (DDR4, 3200 MHz). All solvers were restricted to use a single thread, 3600 second time limit, and 16 instances were solved simultaneously at a time."
   ]
  },
  {
   "cell_type": "code",
   "execution_count": null,
   "id": "4f4597c3",
   "metadata": {},
   "outputs": [],
   "source": []
  }
 ],
 "metadata": {
  "kernelspec": {
   "display_name": "Julia 1.6.0",
   "language": "julia",
   "name": "julia-1.6"
  },
  "language_info": {
   "file_extension": ".jl",
   "mimetype": "application/julia",
   "name": "julia",
   "version": "1.6.0"
  }
 },
 "nbformat": 4,
 "nbformat_minor": 5
}
