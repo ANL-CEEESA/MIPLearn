{
 "cells": [
  {
   "cell_type": "markdown",
   "id": "ed679fe1",
   "metadata": {},
   "source": [
    "# Unit Commitment\n",
    "\n",
    "TODO"
   ]
  },
  {
   "cell_type": "code",
   "execution_count": 6,
   "id": "21cf82e4",
   "metadata": {},
   "outputs": [
    {
     "name": "stdout",
     "output_type": "stream",
     "text": [
      ".\n",
      "├── .ipynb_checkpoints\n",
      "│   ├── facility-checkpoint.ipynb\n",
      "│   ├── gurobi-checkpoint.env\n",
      "│   ├── knapsack-checkpoint.ipynb\n",
      "│   ├── preliminaries-checkpoint.ipynb\n",
      "│   ├── stab-checkpoint.ipynb\n",
      "│   ├── tsp-checkpoint.ipynb\n",
      "│   └── uc-checkpoint.ipynb\n",
      "├── facility.ipynb\n",
      "├── gurobi.env\n",
      "├── knapsack.ipynb\n",
      "├── preliminaries.ipynb\n",
      "├── stab.ipynb\n",
      "├── tsp.ipynb\n",
      "└── uc.ipynb\n",
      "\n",
      "1 directory, 14 files\n"
     ]
    }
   ],
   "source": [
    ";tree -a"
   ]
  },
  {
   "cell_type": "code",
   "execution_count": null,
   "id": "dd98c833",
   "metadata": {},
   "outputs": [],
   "source": []
  },
  {
   "cell_type": "code",
   "execution_count": null,
   "id": "886adaec",
   "metadata": {},
   "outputs": [],
   "source": []
  }
 ],
 "metadata": {
  "kernelspec": {
   "display_name": "Julia 1.6.0",
   "language": "julia",
   "name": "julia-1.6"
  },
  "language_info": {
   "file_extension": ".jl",
   "mimetype": "application/julia",
   "name": "julia",
   "version": "1.6.0"
  }
 },
 "nbformat": 4,
 "nbformat_minor": 5
}
