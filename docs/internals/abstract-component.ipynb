{
 "cells": [
  {
   "cell_type": "markdown",
   "id": "ad9274ff",
   "metadata": {},
   "source": [
    "# Abstract component\n",
    "\n",
    "TODO"
   ]
  }
 ],
 "metadata": {
  "kernelspec": {
   "display_name": "Julia 1.6.0",
   "language": "julia",
   "name": "julia-1.6"
  },
  "language_info": {
   "file_extension": ".jl",
   "mimetype": "application/julia",
   "name": "julia",
   "version": "1.6.0"
  }
 },
 "nbformat": 4,
 "nbformat_minor": 5
}
